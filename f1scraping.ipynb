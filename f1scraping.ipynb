{
 "cells": [
  {
   "cell_type": "code",
   "execution_count": 32,
   "id": "2be16682-1a30-48a4-84a6-0e990bd16aa5",
   "metadata": {},
   "outputs": [],
   "source": [
    "import requests\n",
    "import time\n",
    "import pandas as pd\n",
    "from io import StringIO\n",
    "from bs4 import BeautifulSoup"
   ]
  },
  {
   "cell_type": "code",
   "execution_count": 33,
   "id": "6bb1cc36-9205-4216-abf7-d6c1e4a78a8d",
   "metadata": {},
   "outputs": [],
   "source": [
    "# URL of the webpage containing the driver standings\n",
    "standings_url = 'https://pitwall.app/drivers'"
   ]
  },
  {
   "cell_type": "code",
   "execution_count": null,
   "id": "505916c0-7866-452e-92cd-210bfbf91b8c",
   "metadata": {},
   "outputs": [],
   "source": [
    "# Retrieve the HTML content of the webpage\n",
    "data = requests.get(standings_url)"
   ]
  },
  {
   "cell_type": "code",
   "execution_count": 34,
   "id": "e579fe6c-d74a-4ddf-9563-306b08e27794",
   "metadata": {},
   "outputs": [],
   "source": [
    "# Parse the HTML content using BeautifulSoup\n",
    "soup = BeautifulSoup(data.text)\n",
    "# Select the table containing driver data\n",
    "driver_table = soup.select('table.data-table')[0]\n",
    "# Extract links to individual driver pages\n",
    "driver_links = driver_table.find_all('a')\n",
    "driver_links = [l.get('href') for l in driver_links]\n",
    "# Remove Bearman's link as he will not compete in the rest of the season :(\n",
    "driver_links.remove('/drivers/oliver-bearman')\n",
    "# Construct full URLs for each driver page\n",
    "driver_urls = [f'https://pitwall.app{driver}' for driver in driver_links]"
   ]
  },
  {
   "cell_type": "code",
   "execution_count": 41,
   "id": "2c65acd7-1567-4ef4-8cf8-37f37313afc7",
   "metadata": {},
   "outputs": [],
   "source": [
    "# List to store data from all races\n",
    "all_races = []\n",
    "# Loop through each driver's page\n",
    "for url in driver_urls:\n",
    "    # Construct URLs for the 2022 and 2023 seasons\n",
    "    driver_url_22 = f'{url}/2022'\n",
    "    driver_url_23 = f'{url}/2023'\n",
    "    # Read tables from the driver's pages for the respective seasons\n",
    "    driver_table_22 = pd.read_html(driver_url_22)[0]\n",
    "    driver_table_23 = pd.read_html(driver_url_23)[0]\n",
    "    # Extract driver's name from the URL\n",
    "    driver_name = url.split('/')[-1].replace('-', ' ')\n",
    "    try:\n",
    "        # Merge data from both seasons based on the 'Race' column\n",
    "        driver_data = pd.merge(driver_table_22, driver_table_23, on=['Race'])\n",
    "        # Append merged data to the list\n",
    "        all_races.append(driver_data)\n",
    "    except KeyError:\n",
    "        # If 'Race' column is not found in one of the seasons, skip and continue\n",
    "        continue\n",
    "    # Add a new column 'Driver' with the driver's name\n",
    "    driver_data['Driver'] = \n",
    "    # Add a delay to avoid overloading the server\n",
    "    time.sleep(1)"
   ]
  },
  {
   "cell_type": "code",
   "execution_count": 40,
   "id": "b6c0b10a-9c54-43b5-bd9d-c5bf42fd9942",
   "metadata": {},
   "outputs": [],
   "source": [
    "# Concatenate data from all races into a single DataFrame\n",
    "race_df = pd.concat(all_races)\n",
    "# Save the DataFrame to a CSV file\n",
    "race_df.to_csv('race.csv')"
   ]
  }
 ],
 "metadata": {
  "kernelspec": {
   "display_name": "Python 3 (ipykernel)",
   "language": "python",
   "name": "python3"
  },
  "language_info": {
   "codemirror_mode": {
    "name": "ipython",
    "version": 3
   },
   "file_extension": ".py",
   "mimetype": "text/x-python",
   "name": "python",
   "nbconvert_exporter": "python",
   "pygments_lexer": "ipython3",
   "version": "3.12.2"
  }
 },
 "nbformat": 4,
 "nbformat_minor": 5
}
